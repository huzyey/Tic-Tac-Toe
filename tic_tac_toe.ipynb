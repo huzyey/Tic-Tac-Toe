{
  "nbformat": 4,
  "nbformat_minor": 0,
  "metadata": {
    "colab": {
      "provenance": []
    },
    "kernelspec": {
      "name": "python3",
      "display_name": "Python 3"
    },
    "language_info": {
      "name": "python"
    }
  },
  "cells": [
    {
      "cell_type": "code",
      "execution_count": 4,
      "metadata": {
        "id": "s5esEp8wYtVj"
      },
      "outputs": [],
      "source": [
        "def play_game():\n",
        "    game_board = [['-', '-', '-'],\n",
        "                  ['-', '-', '-'],\n",
        "                  ['-', '-', '-']]\n",
        "    player = 'X'\n",
        "    \n",
        "    def get_move():\n",
        "        row = int(input(\"Hangi satırda oynamak istersiniz? (0, 1, 2): \"))\n",
        "        col = int(input(\"Hangi sütunda oynamak istersiniz? (0, 1, 2): \"))\n",
        "        return row, col\n",
        "\n",
        "    def is_valid_move(row, col, board):\n",
        "        if board[row][col] == '-':\n",
        "            return True\n",
        "        else:\n",
        "            return False\n",
        "\n",
        "    def make_move(row, col, player, board):\n",
        "        board[row][col] = player\n",
        "\n",
        "    def check_win(board):\n",
        "        for i in range(3):\n",
        "            if board[i][0] == board[i][1] == board[i][2] != '-':\n",
        "                return board[i][0]\n",
        "            if board[0][i] == board[1][i] == board[2][i] != '-':\n",
        "                return board[0][i]\n",
        "        if board[0][0] == board[1][1] == board[2][2] != '-':\n",
        "            return board[0][0]\n",
        "        if board[0][2] == board[1][1] == board[2][0] != '-':\n",
        "            return board[0][2]\n",
        "        return None\n",
        "\n",
        "    def print_board(board):\n",
        "        for row in board:\n",
        "            print(' '.join(row))\n",
        "\n",
        "    while True:\n",
        "        print_board(game_board)\n",
        "        print(\"Oyuncu {} sırası.\".format(player))\n",
        "        row, col = get_move()\n",
        "        if is_valid_move(row, col, game_board):\n",
        "            make_move(row, col, player, game_board)\n",
        "            winner = check_win(game_board)\n",
        "            if winner:\n",
        "                print_board(game_board)\n",
        "                print(\"Oyuncu {} kazandı!\".format(winner))\n",
        "                break\n",
        "            elif '-' not in game_board[0] and '-' not in game_board[1] and '-' not in game_board[2]:\n",
        "                print_board(game_board)\n",
        "                print(\"Berabere!\")\n",
        "                break\n",
        "            player = 'O' if player == 'X' else 'X'\n",
        "        else:\n",
        "            print(\"Geçersiz hamle. Lütfen tekrar deneyin.\")\n",
        "\n",
        "play_game()"
      ]
    }
  ]
}